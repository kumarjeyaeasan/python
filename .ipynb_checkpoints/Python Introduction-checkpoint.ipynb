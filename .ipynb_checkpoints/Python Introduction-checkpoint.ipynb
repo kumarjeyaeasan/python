{
 "cells": [
  {
   "cell_type": "markdown",
   "id": "bdc439a5-bd6d-456c-919c-a6117ef26e78",
   "metadata": {},
   "source": [
    "# Python Introduction\n",
    "\n",
    "# Data Types\n",
    "    Fundamental Data Types - int, float, complex, boolean, string, None\n",
    "    Derived Data Types - List, Tuple, Set, frozen Set, dictionary, bytes, bytearray"
   ]
  },
  {
   "cell_type": "markdown",
   "id": "f1b9fa1e-5126-477e-a937-39ae8a4fad35",
   "metadata": {
    "tags": []
   },
   "source": [
    "# Jupyter Short Cut\n",
    "\n",
    "C - Copy\n",
    "V - Paste\n",
    "DD - Delete\n",
    "X - Cut\n",
    "shift+Enter - Run\n",
    "A - add cell above\n",
    "B - add cell below\n",
    "M - Markdown"
   ]
  },
  {
   "cell_type": "code",
   "execution_count": 1,
   "id": "cb321483-1e07-4332-b507-ec2c430ce8a5",
   "metadata": {
    "tags": []
   },
   "outputs": [
    {
     "name": "stdout",
     "output_type": "stream",
     "text": [
      "30\n"
     ]
    }
   ],
   "source": [
    "# Sample Code to add two numbers\n",
    "a=10\n",
    "b=20\n",
    "c=a+b\n",
    "print(c)"
   ]
  },
  {
   "cell_type": "code",
   "execution_count": 2,
   "id": "10dd0edc-311b-4ed5-8cfb-13a754f38e21",
   "metadata": {
    "tags": []
   },
   "outputs": [
    {
     "name": "stdout",
     "output_type": "stream",
     "text": [
      "30\n"
     ]
    }
   ],
   "source": [
    "# add two numbers - another way\n",
    "a,b=10,20\n",
    "c=a+b\n",
    "print(c)"
   ]
  },
  {
   "cell_type": "code",
   "execution_count": null,
   "id": "a7335d76-3f5b-4767-bb28-065d993d9d28",
   "metadata": {},
   "outputs": [],
   "source": []
  }
 ],
 "metadata": {
  "kernelspec": {
   "display_name": "Python 3 (ipykernel)",
   "language": "python",
   "name": "python3"
  },
  "language_info": {
   "codemirror_mode": {
    "name": "ipython",
    "version": 3
   },
   "file_extension": ".py",
   "mimetype": "text/x-python",
   "name": "python",
   "nbconvert_exporter": "python",
   "pygments_lexer": "ipython3",
   "version": "3.11.3"
  }
 },
 "nbformat": 4,
 "nbformat_minor": 5
}
