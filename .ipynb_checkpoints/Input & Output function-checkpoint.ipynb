{
 "cells": [
  {
   "cell_type": "markdown",
   "id": "db716d9f",
   "metadata": {},
   "source": [
    "# Input & Output Functions"
   ]
  },
  {
   "cell_type": "markdown",
   "id": "6c2e8100",
   "metadata": {},
   "source": [
    "# input() function used to ready input from the user. \n",
    "# It treats everythign as String and hence need typecasting as appropriate"
   ]
  },
  {
   "cell_type": "code",
   "execution_count": 1,
   "id": "ef864c30",
   "metadata": {},
   "outputs": [
    {
     "name": "stdout",
     "output_type": "stream",
     "text": [
      "Enter first value: 123\n",
      "Enter second value: 456\n",
      "579\n"
     ]
    }
   ],
   "source": [
    "a = int(input('Enter first value: '))\n",
    "b = int(input('Enter second value: '))\n",
    "c=a+b\n",
    "print(c)"
   ]
  },
  {
   "cell_type": "code",
   "execution_count": 3,
   "id": "9b96a1e4",
   "metadata": {},
   "outputs": [
    {
     "name": "stdout",
     "output_type": "stream",
     "text": [
      "Enter a list: [10,20,30]\n",
      "['[', '1', '0', ',', '2', '0', ',', '3', '0', ']'] <class 'list'>\n"
     ]
    }
   ],
   "source": [
    "# Note: We can't do type casting a list - it will provide unexpected result\n",
    "lst = list(input('Enter a list: '))\n",
    "print(lst,type(lst))\n",
    "\n",
    "#o/p:\n",
    "#Enter a list: [10,20,30]\n",
    "#['[', '1', '0', ',', '2', '0', ',', '3', '0', ']'] <class 'list'>"
   ]
  },
  {
   "cell_type": "code",
   "execution_count": 6,
   "id": "9acf9356",
   "metadata": {},
   "outputs": [
    {
     "name": "stdout",
     "output_type": "stream",
     "text": [
      "Enter Data: [10,20,30]\n",
      "[10, 20, 30] <class 'list'>\n"
     ]
    }
   ],
   "source": [
    "# To resolve all these issues, we use eval which evaluates the type based on the data\n",
    "a=eval(input('Enter Data: '))\n",
    "print(a,type(a))\n",
    "\n",
    "#Enter Data: 123\n",
    "#123 <class 'int'>\n",
    "\n",
    "#Enter Data: 123.45\n",
    "#123.45 <class 'float'>\n",
    "\n",
    "#Enter Data: [10,20,30]\n",
    "#[10, 20, 30] <class 'list'>"
   ]
  },
  {
   "cell_type": "code",
   "execution_count": 7,
   "id": "c897b04e",
   "metadata": {},
   "outputs": [
    {
     "data": {
      "text/plain": [
       "30"
      ]
     },
     "execution_count": 7,
     "metadata": {},
     "output_type": "execute_result"
    }
   ],
   "source": [
    "eval('10+20')\n",
    "\n",
    "# 30"
   ]
  },
  {
   "cell_type": "code",
   "execution_count": null,
   "id": "8089eea1",
   "metadata": {},
   "outputs": [],
   "source": []
  }
 ],
 "metadata": {
  "kernelspec": {
   "display_name": "Python 3 (ipykernel)",
   "language": "python",
   "name": "python3"
  },
  "language_info": {
   "codemirror_mode": {
    "name": "ipython",
    "version": 3
   },
   "file_extension": ".py",
   "mimetype": "text/x-python",
   "name": "python",
   "nbconvert_exporter": "python",
   "pygments_lexer": "ipython3",
   "version": "3.11.3"
  }
 },
 "nbformat": 4,
 "nbformat_minor": 5
}
