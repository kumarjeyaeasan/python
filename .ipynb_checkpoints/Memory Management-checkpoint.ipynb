{
 "cells": [
  {
   "cell_type": "markdown",
   "id": "b69e9f68",
   "metadata": {},
   "source": [
    "# Memory Management - Automatic\n",
    "#1. Memory Allocation - Raw memory allocator, object specific allocator, PVM\n",
    "#2. Memory Dealloaction - Garbage Collector"
   ]
  },
  {
   "cell_type": "markdown",
   "id": "4cd3a4c7",
   "metadata": {},
   "source": [
    "#1 In Python everything is object\n",
    "#2 Objects are always stored in heap memory\n",
    "#3 Objects consumes most of the memory allocated"
   ]
  },
  {
   "cell_type": "code",
   "execution_count": null,
   "id": "cb7f4a13",
   "metadata": {},
   "outputs": [],
   "source": []
  }
 ],
 "metadata": {
  "kernelspec": {
   "display_name": "Python 3 (ipykernel)",
   "language": "python",
   "name": "python3"
  },
  "language_info": {
   "codemirror_mode": {
    "name": "ipython",
    "version": 3
   },
   "file_extension": ".py",
   "mimetype": "text/x-python",
   "name": "python",
   "nbconvert_exporter": "python",
   "pygments_lexer": "ipython3",
   "version": "3.11.3"
  }
 },
 "nbformat": 4,
 "nbformat_minor": 5
}
