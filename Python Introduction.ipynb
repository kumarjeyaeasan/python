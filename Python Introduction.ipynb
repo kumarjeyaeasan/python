{
 "cells": [
  {
   "cell_type": "markdown",
   "id": "bdc439a5-bd6d-456c-919c-a6117ef26e78",
   "metadata": {},
   "source": [
    "# Python Introduction\n",
    "\n",
    "# Data Types\n",
    "    Fundamental Data Types - int, float, complex, boolean, string, None\n",
    "    Derived Data Types - List, Tuple, Set, frozen Set, dictionary, bytes, bytearray"
   ]
  },
  {
   "cell_type": "markdown",
   "id": "f1b9fa1e-5126-477e-a937-39ae8a4fad35",
   "metadata": {
    "tags": []
   },
   "source": [
    "# Jupyter Short Cut\n",
    "\n",
    "C - Copy\n",
    "V - Paste\n",
    "DD - Delete\n",
    "X - Cut\n",
    "shift+Enter - Run\n",
    "A - add cell above\n",
    "B - add cell below\n",
    "M - Markdown"
   ]
  },
  {
   "cell_type": "code",
   "execution_count": 1,
   "id": "cb321483-1e07-4332-b507-ec2c430ce8a5",
   "metadata": {
    "tags": []
   },
   "outputs": [
    {
     "name": "stdout",
     "output_type": "stream",
     "text": [
      "30\n"
     ]
    }
   ],
   "source": [
    "# Sample Code to add two numbers\n",
    "a=10\n",
    "b=20\n",
    "c=a+b\n",
    "print(c)"
   ]
  },
  {
   "cell_type": "code",
   "execution_count": 2,
   "id": "10dd0edc-311b-4ed5-8cfb-13a754f38e21",
   "metadata": {
    "tags": []
   },
   "outputs": [
    {
     "name": "stdout",
     "output_type": "stream",
     "text": [
      "30\n"
     ]
    }
   ],
   "source": [
    "# add two numbers - another way\n",
    "a,b=10,20\n",
    "c=a+b\n",
    "print(c)"
   ]
  },
  {
   "cell_type": "markdown",
   "id": "37d411ab-c273-4510-8e95-3bae8d2a5c6c",
   "metadata": {},
   "source": [
    "# Python as compiler and Interpreter\n",
    "\n",
    "# To excute python code\n",
    "python file1.py\n",
    "\n",
    "# To \"compile\" a python code\n",
    "python -m py_compile file1.py\n",
    "# The compiled code will be available under __pycache__ folder with .pyc as extenstion\n",
    "\n",
    "# To execute the .pyc code\n",
    "python file1**.pycs\n",
    "\n",
    "# To \"compile\" a python code & generate human readable byte code format\n",
    "# using dis-assembler parameter (dis)\n",
    "python -m dis file1.py \n",
    "\n"
   ]
  },
  {
   "cell_type": "code",
   "execution_count": 4,
   "id": "8ec2a47e-6b76-4abe-aeb2-36b24d843795",
   "metadata": {
    "tags": []
   },
   "outputs": [
    {
     "name": "stdout",
     "output_type": "stream",
     "text": [
      "['ArithmeticError', 'AssertionError', 'AttributeError', 'BaseException', 'BaseExceptionGroup', 'BlockingIOError', 'BrokenPipeError', 'BufferError', 'BytesWarning', 'ChildProcessError', 'ConnectionAbortedError', 'ConnectionError', 'ConnectionRefusedError', 'ConnectionResetError', 'DeprecationWarning', 'EOFError', 'Ellipsis', 'EncodingWarning', 'EnvironmentError', 'Exception', 'ExceptionGroup', 'False', 'FileExistsError', 'FileNotFoundError', 'FloatingPointError', 'FutureWarning', 'GeneratorExit', 'IOError', 'ImportError', 'ImportWarning', 'IndentationError', 'IndexError', 'InterruptedError', 'IsADirectoryError', 'KeyError', 'KeyboardInterrupt', 'LookupError', 'MemoryError', 'ModuleNotFoundError', 'NameError', 'None', 'NotADirectoryError', 'NotImplemented', 'NotImplementedError', 'OSError', 'OverflowError', 'PendingDeprecationWarning', 'PermissionError', 'ProcessLookupError', 'RecursionError', 'ReferenceError', 'ResourceWarning', 'RuntimeError', 'RuntimeWarning', 'StopAsyncIteration', 'StopIteration', 'SyntaxError', 'SyntaxWarning', 'SystemError', 'SystemExit', 'TabError', 'TimeoutError', 'True', 'TypeError', 'UnboundLocalError', 'UnicodeDecodeError', 'UnicodeEncodeError', 'UnicodeError', 'UnicodeTranslateError', 'UnicodeWarning', 'UserWarning', 'ValueError', 'Warning', 'ZeroDivisionError', '__IPYTHON__', '__build_class__', '__debug__', '__doc__', '__import__', '__loader__', '__name__', '__package__', '__spec__', 'abs', 'aiter', 'all', 'anext', 'any', 'ascii', 'bin', 'bool', 'breakpoint', 'bytearray', 'bytes', 'callable', 'chr', 'classmethod', 'compile', 'complex', 'copyright', 'credits', 'delattr', 'dict', 'dir', 'display', 'divmod', 'enumerate', 'eval', 'exec', 'execfile', 'filter', 'float', 'format', 'frozenset', 'get_ipython', 'getattr', 'globals', 'hasattr', 'hash', 'help', 'hex', 'id', 'input', 'int', 'isinstance', 'issubclass', 'iter', 'len', 'license', 'list', 'locals', 'map', 'max', 'memoryview', 'min', 'next', 'object', 'oct', 'open', 'ord', 'pow', 'print', 'property', 'range', 'repr', 'reversed', 'round', 'runfile', 'set', 'setattr', 'slice', 'sorted', 'staticmethod', 'str', 'sum', 'super', 'tuple', 'type', 'vars', 'zip']\n"
     ]
    }
   ],
   "source": [
    "# Print built in functions and Classes\n",
    "print(dir(__builtins__))"
   ]
  },
  {
   "cell_type": "code",
   "execution_count": null,
   "id": "826de2d0-61b3-4aa9-95e2-5082862eca75",
   "metadata": {},
   "outputs": [],
   "source": [
    "# Memory Allocation in "
   ]
  }
 ],
 "metadata": {
  "kernelspec": {
   "display_name": "Python 3 (ipykernel)",
   "language": "python",
   "name": "python3"
  },
  "language_info": {
   "codemirror_mode": {
    "name": "ipython",
    "version": 3
   },
   "file_extension": ".py",
   "mimetype": "text/x-python",
   "name": "python",
   "nbconvert_exporter": "python",
   "pygments_lexer": "ipython3",
   "version": "3.11.3"
  }
 },
 "nbformat": 4,
 "nbformat_minor": 5
}
